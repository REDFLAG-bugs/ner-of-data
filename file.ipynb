{
 "cells": [
  {
   "cell_type": "code",
   "execution_count": 1,
   "metadata": {},
   "outputs": [],
   "source": [
    "import getpass\n",
    "import os\n",
    "\n",
    "if \"GROQ_API_KEY\" not in os.environ:\n",
    "    os.environ[\"GROQ_API_KEY\"] = getpass.getpass(\"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\")"
   ]
  },
  {
   "cell_type": "code",
   "execution_count": 2,
   "metadata": {},
   "outputs": [],
   "source": [
    "from langchain_groq import ChatGroq\n",
    "\n",
    "llm = ChatGroq(\n",
    "    model=\"mixtral-8x7b-32768\",\n",
    "    temperature=0,\n",
    "    max_tokens=None,\n",
    "    timeout=None,\n",
    "    max_retries=2,\n",
    "    # other params...\n",
    ")"
   ]
  },
  {
   "cell_type": "code",
   "execution_count": 3,
   "metadata": {},
   "outputs": [
    {
     "name": "stdout",
     "output_type": "stream",
     "text": [
      "system: You are a helpful assistant that translates English to French. Translate the user sentence.\n",
      "human: I love programming.\n"
     ]
    },
    {
     "data": {
      "text/plain": [
       "AIMessage(content='I love programming in French is: \"J\\'aime programmer.\"', additional_kwargs={}, response_metadata={'token_usage': {'completion_tokens': 16, 'prompt_tokens': 30, 'total_tokens': 46, 'completion_time': 0.02398395, 'prompt_time': 0.002646083, 'queue_time': 0.011554217, 'total_time': 0.026630033}, 'model_name': 'mixtral-8x7b-32768', 'system_fingerprint': 'fp_c5f20b5bb1', 'finish_reason': 'stop', 'logprobs': None}, id='run-7096da94-18fd-4d07-a738-74671951dfc6-0', usage_metadata={'input_tokens': 30, 'output_tokens': 16, 'total_tokens': 46})"
      ]
     },
     "execution_count": 3,
     "metadata": {},
     "output_type": "execute_result"
    }
   ],
   "source": [
    "messages = [\n",
    "    (\n",
    "        \"system\",\n",
    "        \"You are a helpful assistant that translates English to French. Translate the user sentence.\",\n",
    "    ),\n",
    "    (\"human\", \"I love programming.\"),\n",
    "]\n",
    "ai_msg = llm.invoke(messages)\n",
    "print(\"\\n\".join([f\"{msg[0]}: {msg[1]}\" for msg in messages]))\n",
    "ai_msg"
   ]
  },
  {
   "cell_type": "code",
   "execution_count": 4,
   "metadata": {},
   "outputs": [
    {
     "data": {
      "text/plain": [
       "AIMessage(content='Sure, I can help you structure a JSON prompt for sentiment analysis. Here\\'s an example of how you might structure the JSON prompt:\\n\\n```json\\n{\\n  \"text\": \"Your sentence goes here\"\\n}\\n```\\n\\nYou can replace \"Your sentence goes here\" with the sentence you want to analyze for sentiment. The model will then return a prediction of the sentiment of the sentence, which could be positive, negative, or neutral.\\n\\nHere\\'s an example of what the JSON prompt might look like with a specific sentence:\\n\\n```json\\n{\\n  \"text\": \"I had a great day at the park!\"\\n}\\n```\\n\\nIn this example, the model might predict a positive sentiment for the sentence, since it expresses a positive experience.', additional_kwargs={}, response_metadata={'token_usage': {'completion_tokens': 169, 'prompt_tokens': 36, 'total_tokens': 205, 'completion_time': 0.268401265, 'prompt_time': 0.003204761, 'queue_time': 0.011328069, 'total_time': 0.271606026}, 'model_name': 'mixtral-8x7b-32768', 'system_fingerprint': 'fp_c5f20b5bb1', 'finish_reason': 'stop', 'logprobs': None}, id='run-deca4501-0afc-4217-a8d0-de7f965fecd8-0', usage_metadata={'input_tokens': 36, 'output_tokens': 169, 'total_tokens': 205})"
      ]
     },
     "execution_count": 4,
     "metadata": {},
     "output_type": "execute_result"
    }
   ],
   "source": [
    "messages = [\n",
    "    {\"role\": \"system\", \"content\": \"You are a helpful assistant that converts unstructured prompts to structured json prompts\"},\n",
    "    {\"role\": \"user\", \"content\": \"I want to predict the sentiment of a sentence.\"}\n",
    "]\n",
    "\n",
    "ai_msg = llm.invoke(messages)\n",
    "ai_msg\n"
   ]
  },
  {
   "cell_type": "code",
   "execution_count": null,
   "metadata": {},
   "outputs": [],
   "source": []
  },
  {
   "cell_type": "code",
   "execution_count": 5,
   "metadata": {},
   "outputs": [],
   "source": [
    "messages = [\n",
    "    {\n",
    "        \"role\": \"system\",\n",
    "        \"content\": \"You are a medical assistant that extracts structured information from unstructured clinical notes. You will identify patient complaints, investigations, and medication information.\"\n",
    "    },\n",
    "    {\n",
    "        \"role\": \"user\",\n",
    "        \"content\": \"Patient Complaints of High grade fever, chest pain, radiating towards right shoulder. Sweating, Palpitation since 5 days. Advice investigation: CBC, LFT, Chest X-ray, Abdomen Ultrasound. Medication: Diclofenac 325mg twice a day for 5 days, Amoxiclave 625mg once a day for 5 days, Azithromycin 500mg Once a day, Ibuprofen SOS, Paracetamol sos, Pentoprazol before breakfast.\"\n",
    "    }\n",
    "]\n"
   ]
  },
  {
   "cell_type": "code",
   "execution_count": 12,
   "metadata": {},
   "outputs": [
    {
     "name": "stdout",
     "output_type": "stream",
     "text": [
      "content='Here is the structured response in JSON format with an indent of 4 spaces:\\n\\n```json\\n{\\n    \"status\": \"stable\",\\n    \"pharmacy\": {\\n        \"medications\": [\\n            {\\n                \"name\": \"Metronidazole\",\\n                \"dosage\": 400,\\n                \"unit\": \"mg\",\\n                \"frequency\": \"twice a day\"\\n            },\\n            {\\n                \"name\": \"Cefixime\",\\n                \"dosage\": 200,\\n                \"unit\": \"mg\",\\n                \"frequency\": \"twice a day\"\\n            },\\n            {\\n                \"name\": \"Pantoprazole\",\\n                \"dosage\": 40,\\n                \"unit\": \"mg\",\\n                \"frequency\": \"once daily before breakfast\"\\n            }\\n        ]\\n    },\\n    \"services\": {\\n        \"tests\": [\\n            \"CBC\",\\n            \"CRP\",\\n            \"Abdominal Ultrasound\",\\n            \"Urinalysis\"\\n        ]\\n    },\\n    \"unknown_words\": []\\n}\\n```' additional_kwargs={} response_metadata={'token_usage': {'completion_tokens': 271, 'prompt_tokens': 604, 'total_tokens': 875, 'completion_time': 0.441089144, 'prompt_time': 0.037079013, 'queue_time': 0.0012533309999999964, 'total_time': 0.478168157}, 'model_name': 'mixtral-8x7b-32768', 'system_fingerprint': 'fp_c5f20b5bb1', 'finish_reason': 'stop', 'logprobs': None} id='run-18b2f261-f2d0-4268-8a54-009ea8c0495c-0' usage_metadata={'input_tokens': 604, 'output_tokens': 271, 'total_tokens': 875}\n",
      "{\n",
      "    \"status\": \"stable\",\n",
      "    \"pharmacy\": {\n",
      "        \"medications\": [\n",
      "            {\n",
      "                \"name\": \"Metronidazole\",\n",
      "                \"dosage\": 400,\n",
      "                \"unit\": \"mg\",\n",
      "                \"frequency\": \"twice a day\"\n",
      "            },\n",
      "            {\n",
      "                \"name\": \"Cefixime\",\n",
      "                \"dosage\": 200,\n",
      "                \"unit\": \"mg\",\n",
      "                \"frequency\": \"twice a day\"\n",
      "            },\n",
      "            {\n",
      "                \"name\": \"Pantoprazole\",\n",
      "                \"dosage\": 40,\n",
      "                \"unit\": \"mg\",\n",
      "                \"frequency\": \"once daily before breakfast\"\n",
      "            }\n",
      "        ]\n",
      "    },\n",
      "    \"services\": {\n",
      "        \"tests\": [\n",
      "            \"CBC\",\n",
      "            \"CRP\",\n",
      "            \"Abdominal Ultrasound\",\n",
      "            \"Urinalysis\"\n",
      "        ]\n",
      "    },\n",
      "    \"unknown_words\": []\n",
      "}\n"
     ]
    }
   ],
   "source": [
    "import json\n",
    "import ast\n",
    "\n",
    "messages = [\n",
    "    {\n",
    "        \"role\": \"system\",\n",
    "        \"content\": \"\"\"\n",
    "        You are a medical assistant capable of extracting structured details from unstructured clinical text. Your task is to identify specific categories of information from the provided text. Additionally, you need to identify and flag any unknown or unfamiliar terms that may need further clarification or special handling.\n",
    "\n",
    "        The categories you need to extract from the text are:\n",
    "        1. **Status**: Identify the patient's health status, such as \"stable,\" \"critical,\" \"recovering,\" \"improving,\" etc.\n",
    "        2. **Pharmacy**: Extract references to medication, prescriptions, or pharmacy-related details (e.g., medication names, dosages, directions).\n",
    "        3. **Services**: Extract any references to medical services, tests, or procedures mentioned (e.g., lab tests, imaging, surgeries).\n",
    "        4. **Unknown Words**: Flag any terms or phrases that are unfamiliar or do not fit within the recognized categories, indicating the need for further clarification or special handling.\n",
    "\n",
    "        Please note that further clarification or special handling may be needed for the patient's health status and the interpretation of their symptoms.\n",
    "    \n",
    "        \"\"\"\n",
    "    },\n",
    "    {\n",
    "        \"role\": \"user\",\n",
    "        \"content\": \"\"\"Patient complains of abdominal pain predominantly in the right lower quadrant, fever, and loss of appetite over two days. Reports nausea and occasional vomiting.\n",
    "Advice investigation: CBC, CRP, Abdominal Ultrasound, Urinalysis.\n",
    "Medication: Metronidazole 400mg twice a day for 7 days, Cefixime 200mg twice a day for 5 days, Pantoprazole 40mg once daily before breakfast.\n",
    "        \"\"\"\n",
    "    },\n",
    "    {\n",
    "        \"role\":\"system\",\n",
    "        \"content\":\"\"\" Based ono the provided information, you can provide a structured response. Here is the response:\n",
    "        {\n",
    "    \"status\": \"stable\",\n",
    "    \"pharmacy\": {\n",
    "        \"medications\": [\n",
    "            {\n",
    "                \"name\": medicine name,  // This is a literal string, not a placeholder\n",
    "                \"dosage\": amount,\n",
    "                \"unit\" : amount    // Same issue with placeholders\n",
    "                \"frequency\": frequency\n",
    "            },\n",
    "        ]\n",
    "    }, ```Observe carefully the format of the response, extracting all the services```\n",
    "    \"services\": {  \n",
    "        \"tests\": [\n",
    "           // Provide all the tests that are being prescribed to the patient, if any\n",
    "        ]           \n",
    "    },\n",
    "    \"unknown_words\": [ \n",
    "    ]\n",
    "}\n",
    "        \"\"\"\n",
    "\n",
    "    },\n",
    "\n",
    "    {\n",
    "        \"role\":\"user\",\n",
    "        \"content\": \"\"\"  Take the response, provide before and provide it in json format, with an indent of 4 spaces  taking the responses you have provided and provide it in json format. \n",
    "        \"\"\"\n",
    "    }\n",
    "]\n",
    "\n",
    "\n",
    "ai_msg = llm.invoke(messages)\n",
    "\n",
    "print(ai_msg)\n",
    "\n",
    "\n",
    "# content=ai_msg.content\n",
    "# json_str = re.search(r'```json\\n(.*?)```', content, re.DOTALL).group(1)\n",
    "# ai_msg_json = json.loads(json_str)\n",
    "# print(ai_msg_json)\n",
    "# formatted_json = json.dumps(ai_msg_json, indent=8)\n",
    "# print(formatted_json)\n",
    "\n",
    "def extract_json(content):\n",
    "    start = content.find('```json\\n') + 7\n",
    "    end = content.find('```', start)\n",
    "    json_str = content[start:end].strip()\n",
    "    return ast.literal_eval(json_str)\n",
    "def extract_json_manual(content):\n",
    "    start = content.find('```json\\n') + 7\n",
    "    end = content.find('```', start)\n",
    "    json_str = content[start:end].strip()\n",
    "    import json \n",
    "    return json.loads(json_str)\n",
    "ai_msg_json=extract_json(ai_msg.content)\n",
    "ai_msg_json= extract_json_manual(ai_msg.content)\n",
    "\n",
    "\n",
    "print(json.dumps(ai_msg_json, indent=4))"
   ]
  },
  {
   "cell_type": "code",
   "execution_count": null,
   "metadata": {},
   "outputs": [],
   "source": []
  }
 ],
 "metadata": {
  "kernelspec": {
   "display_name": "us2s",
   "language": "python",
   "name": "python3"
  },
  "language_info": {
   "codemirror_mode": {
    "name": "ipython",
    "version": 3
   },
   "file_extension": ".py",
   "mimetype": "text/x-python",
   "name": "python",
   "nbconvert_exporter": "python",
   "pygments_lexer": "ipython3",
   "version": "3.10.15"
  }
 },
 "nbformat": 4,
 "nbformat_minor": 2
}
